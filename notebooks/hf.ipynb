{
 "cells": [
  {
   "cell_type": "markdown",
   "id": "1132fd05",
   "metadata": {},
   "source": [
    "# Hugging Face example\n",
    "\n",
    "In this notebook, we will explore how to load a Hugging Face model, specifically the SmolLM3-3 using the configuration settings defined in our project.\n"
   ]
  },
  {
   "cell_type": "markdown",
   "id": "14e9aa8b",
   "metadata": {},
   "source": [
    "## Setup\n"
   ]
  },
  {
   "cell_type": "markdown",
   "id": "4f81ed32",
   "metadata": {},
   "source": [
    "### Load Local Modules\n"
   ]
  },
  {
   "cell_type": "code",
   "execution_count": 1,
   "id": "76e03898",
   "metadata": {},
   "outputs": [],
   "source": [
    "from pathlib import Path\n",
    "import sys\n",
    "import subprocess\n",
    "\n",
    "\n",
    "def get_project_root() -> Path:\n",
    "    return Path(\n",
    "        subprocess.check_output(\n",
    "            [\"git\", \"rev-parse\", \"--show-toplevel\"],\n",
    "            cwd=\".\",\n",
    "            stderr=subprocess.STDOUT,\n",
    "        )\n",
    "        .strip()\n",
    "        .decode()\n",
    "    )\n",
    "\n",
    "\n",
    "project_root = get_project_root()\n",
    "src_dir = project_root / \"src\"\n",
    "\n",
    "if str(src_dir) not in sys.path:\n",
    "    sys.path.append(str(src_dir))\n",
    "\n",
    "try:\n",
    "    from utils.seed_utils import set_seed\n",
    "except ImportError:\n",
    "    raise ImportError(\"Cannot import module. Make sure that the project is on the path\")\n",
    "\n",
    "SEED = 42\n",
    "set_seed(SEED)"
   ]
  },
  {
   "cell_type": "markdown",
   "id": "ae23dce2",
   "metadata": {},
   "source": [
    "### Setup logs and config\n",
    "\n",
    "Here's the configuration used:\n",
    "\n",
    "```yaml\n",
    "logs:\n",
    "  _target_: schemas.log_schema.LogSchema\n",
    "  sink: ${path_config:run_log}\n",
    "  level: INFO\n",
    "  format: \"{time:YYYY-MM-DD HH:mm:ss.SSS} | {level} | {thread.name} | {name}:{function}:{line} - {message}\"\n",
    "  rotation: 10 MB\n",
    "  retention: 7 days\n",
    "  colorize: true\n",
    "\n",
    "model:\n",
    "  _target_: models.smol_lm3.smol_lm3_model.SmolLM3Model\n",
    "```\n"
   ]
  },
  {
   "cell_type": "code",
   "execution_count": null,
   "id": "dcc548ce",
   "metadata": {},
   "outputs": [],
   "source": [
    "from configs.app_config import AppConfig\n",
    "from utils.log_utils import setup_logs\n",
    "\n",
    "\n",
    "def setup(\n",
    "    config_dir: str | Path | None = None,\n",
    "    config_file: str = \"settings.yaml\",\n",
    "    overrides: list[str] | None = None,\n",
    "):\n",
    "    AppConfig.load(config_dir=config_dir, config_file=config_file, overrides=overrides)\n",
    "    setup_logs(config=AppConfig.settings[\"logs\"])\n",
    "\n",
    "\n",
    "setup()"
   ]
  },
  {
   "cell_type": "markdown",
   "id": "a001157e",
   "metadata": {},
   "source": [
    "## Load SmolLM3-3B Model\n"
   ]
  },
  {
   "cell_type": "code",
   "execution_count": 3,
   "id": "c3cf4684",
   "metadata": {},
   "outputs": [
    {
     "name": "stdout",
     "output_type": "stream",
     "text": [
      "\u001b[32m2025-10-07 11:12:39.776\u001b[0m | \u001b[34m\u001b[1mDEBUG   \u001b[0m | \u001b[36m__main__\u001b[0m:\u001b[36m<module>\u001b[0m:\u001b[36m3\u001b[0m - \u001b[34m\u001b[1mSmolLM3ForCausalLM(\n",
      "  (model): SmolLM3Model(\n",
      "    (embed_tokens): Embedding(128256, 2048, padding_idx=128004)\n",
      "    (layers): ModuleList(\n",
      "      (0-35): 36 x SmolLM3DecoderLayer(\n",
      "        (self_attn): SmolLM3Attention(\n",
      "          (q_proj): Linear(in_features=2048, out_features=2048, bias=False)\n",
      "          (k_proj): Linear(in_features=2048, out_features=512, bias=False)\n",
      "          (v_proj): Linear(in_features=2048, out_features=512, bias=False)\n",
      "          (o_proj): Linear(in_features=2048, out_features=2048, bias=False)\n",
      "        )\n",
      "        (mlp): SmolLM3MLP(\n",
      "          (gate_proj): Linear(in_features=2048, out_features=11008, bias=False)\n",
      "          (up_proj): Linear(in_features=2048, out_features=11008, bias=False)\n",
      "          (down_proj): Linear(in_features=11008, out_features=2048, bias=False)\n",
      "          (act_fn): SiLUActivation()\n",
      "        )\n",
      "        (input_layernorm): SmolLM3RMSNorm((2048,), eps=1e-06)\n",
      "        (post_attention_layernorm): SmolLM3RMSNorm((2048,), eps=1e-06)\n",
      "      )\n",
      "    )\n",
      "    (norm): SmolLM3RMSNorm((2048,), eps=1e-06)\n",
      "    (rotary_emb): SmolLM3RotaryEmbedding()\n",
      "  )\n",
      "  (lm_head): Linear(in_features=2048, out_features=128256, bias=False)\n",
      ")\u001b[0m\n"
     ]
    }
   ],
   "source": [
    "from utils.log_utils import log\n",
    "\n",
    "log(message=AppConfig.settings[\"model\"].model)"
   ]
  },
  {
   "cell_type": "markdown",
   "id": "c9ee2c36",
   "metadata": {},
   "source": [
    "## Playground"
   ]
  },
  {
   "cell_type": "code",
   "execution_count": 4,
   "id": "de1a5bb2",
   "metadata": {},
   "outputs": [
    {
     "name": "stdout",
     "output_type": "stream",
     "text": [
      "\u001b[32m2025-10-07 11:12:41.067\u001b[0m | \u001b[34m\u001b[1mDEBUG   \u001b[0m | \u001b[36m__main__\u001b[0m:\u001b[36m<module>\u001b[0m:\u001b[36m16\u001b[0m - \u001b[34m\u001b[1m<think>\n",
      "Okay, the user is asking, \"Who are you?\" I need to respond in a way that's helpful and informative. Let me start by introducing myself as an AI assistant. I should\u001b[0m\n"
     ]
    }
   ],
   "source": [
    "tokenizer = AppConfig.settings[\"model\"].tok_or_proc\n",
    "model = AppConfig.settings[\"model\"].model\n",
    "\n",
    "messages = [\n",
    "    {\"role\": \"user\", \"content\": \"Who are you?\"},\n",
    "]\n",
    "inputs = tokenizer.apply_chat_template(\n",
    "    messages,\n",
    "    add_generation_prompt=True,\n",
    "    tokenize=True,\n",
    "    return_dict=True,\n",
    "    return_tensors=\"pt\",\n",
    ").to(model.device)\n",
    "\n",
    "outputs = model.generate(**inputs, max_new_tokens=40)\n",
    "log(message=tokenizer.decode(outputs[0][inputs[\"input_ids\"].shape[-1] :]))"
   ]
  },
  {
   "cell_type": "markdown",
   "id": "0bb44114",
   "metadata": {},
   "source": [
    "## Here, the rest of your code. Enjoy !\n"
   ]
  }
 ],
 "metadata": {
  "kernelspec": {
   "display_name": "pyenv",
   "language": "python",
   "name": "python3"
  },
  "language_info": {
   "codemirror_mode": {
    "name": "ipython",
    "version": 3
   },
   "file_extension": ".py",
   "mimetype": "text/x-python",
   "name": "python",
   "nbconvert_exporter": "python",
   "pygments_lexer": "ipython3",
   "version": "3.11.13"
  }
 },
 "nbformat": 4,
 "nbformat_minor": 5
}
