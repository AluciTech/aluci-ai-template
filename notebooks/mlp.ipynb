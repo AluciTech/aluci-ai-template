{
 "cells": [
  {
   "cell_type": "markdown",
   "id": "1132fd05",
   "metadata": {},
   "source": [
    "# MLP Example\n",
    "\n",
    "In this notebook, we will explore how to load a custom model, specifically a Multi-Layer Perceptron (MLP), using the configuration settings defined in our project.\n",
    "\n",
    "*Note: A bit of this notebook was inspired by [this tutorial](https://docs.pytorch.org/tutorials/beginner/introyt/trainingyt.html).*\n"
   ]
  },
  {
   "cell_type": "markdown",
   "id": "14e9aa8b",
   "metadata": {},
   "source": [
    "## Setup\n"
   ]
  },
  {
   "cell_type": "markdown",
   "id": "4f81ed32",
   "metadata": {},
   "source": [
    "### Load Local Modules\n"
   ]
  },
  {
   "cell_type": "code",
   "execution_count": 1,
   "id": "76e03898",
   "metadata": {},
   "outputs": [],
   "source": [
    "from pathlib import Path\n",
    "import sys\n",
    "import subprocess\n",
    "\n",
    "\n",
    "def get_project_root() -> Path:\n",
    "    return Path(\n",
    "        subprocess.check_output(\n",
    "            [\"git\", \"rev-parse\", \"--show-toplevel\"],\n",
    "            cwd=\".\",\n",
    "            stderr=subprocess.STDOUT,\n",
    "        )\n",
    "        .strip()\n",
    "        .decode()\n",
    "    )\n",
    "\n",
    "\n",
    "project_root = get_project_root()\n",
    "src_dir = project_root / \"src\"\n",
    "\n",
    "if str(src_dir) not in sys.path:\n",
    "    sys.path.append(str(src_dir))\n",
    "\n",
    "try:\n",
    "    from utils.seed_utils import set_seed\n",
    "except ImportError:\n",
    "    raise ImportError(\"Cannot import module. Make sure that the project is on the path\")\n",
    "\n",
    "SEED = 42\n",
    "set_seed(SEED)"
   ]
  },
  {
   "cell_type": "markdown",
   "id": "241f67dc",
   "metadata": {},
   "source": [
    "### Setup logs and config\n",
    "\n",
    "Here's the configuration used:\n",
    "\n",
    "```yaml\n",
    "logs:\n",
    "  _target_: schemas.log_schema.LogSchema\n",
    "  sink: ${path_config:run_log}\n",
    "  level: INFO\n",
    "  format: \"{time:YYYY-MM-DD HH:mm:ss.SSS} | {level} | {thread.name} | {name}:{function}:{line} - {message}\"\n",
    "  rotation: 10 MB\n",
    "  retention: 7 days\n",
    "  colorize: true\n",
    "\n",
    "model:\n",
    "  _target_: models.smol_lm3.smol_lm3_model.SmolLM3Model\n",
    "```\n",
    "\n",
    "But we want to use an MLP model instead:\n",
    "\n",
    "```yaml\n",
    "model:\n",
    "  _target_: models.mlp.mlp_model.MLPModel\n",
    "```\n",
    "\n",
    "So here we can override the model configuration when loading the settings, as shown below.\n"
   ]
  },
  {
   "cell_type": "code",
   "execution_count": null,
   "id": "c30fc035",
   "metadata": {},
   "outputs": [],
   "source": [
    "from configs.app_config import AppConfig\n",
    "from utils.log_utils import setup_logs\n",
    "\n",
    "\n",
    "def setup(\n",
    "    config_dir: str | Path | None = None,\n",
    "    config_file: str = \"settings.yaml\",\n",
    "    overrides: list[str] | None = None,\n",
    "):\n",
    "    AppConfig.load(\n",
    "        config_dir=config_dir,\n",
    "        config_file=config_file,\n",
    "        overrides=overrides,\n",
    "    )\n",
    "    setup_logs(config=AppConfig.settings[\"logs\"])\n",
    "\n",
    "\n",
    "setup(overrides=[\"model._target_=models.mlp.mlp_model.MLPModel\"])"
   ]
  },
  {
   "cell_type": "markdown",
   "id": "275df285",
   "metadata": {},
   "source": [
    "## Load MLP Model\n"
   ]
  },
  {
   "cell_type": "code",
   "execution_count": 3,
   "id": "ccec9883",
   "metadata": {},
   "outputs": [
    {
     "name": "stdout",
     "output_type": "stream",
     "text": [
      "\u001b[32m2025-10-07 18:18:48.753\u001b[0m | \u001b[34m\u001b[1mDEBUG   \u001b[0m | \u001b[36m__main__\u001b[0m:\u001b[36m<module>\u001b[0m:\u001b[36m4\u001b[0m - \u001b[34m\u001b[1mMLP(\n",
      "  (model): Sequential(\n",
      "    (0): Flatten(start_dim=1, end_dim=-1)\n",
      "    (1): Linear(in_features=784, out_features=128, bias=True)\n",
      "    (2): ReLU()\n",
      "    (3): Linear(in_features=128, out_features=10, bias=True)\n",
      "  )\n",
      ")\u001b[0m\n"
     ]
    }
   ],
   "source": [
    "from utils.log_utils import log\n",
    "\n",
    "mlp = AppConfig.settings[\"model\"].model\n",
    "log(message=mlp)"
   ]
  },
  {
   "cell_type": "markdown",
   "id": "29f19ddb",
   "metadata": {},
   "source": [
    "## Load dataset"
   ]
  },
  {
   "cell_type": "code",
   "execution_count": 4,
   "id": "e4440d3d",
   "metadata": {},
   "outputs": [
    {
     "name": "stdout",
     "output_type": "stream",
     "text": [
      "Training set has 60000 instances\n",
      "Validation set has 10000 instances\n"
     ]
    }
   ],
   "source": [
    "import torch\n",
    "import torchvision\n",
    "import torchvision.transforms as transforms\n",
    "\n",
    "from configs.path_config import path_config\n",
    "\n",
    "\n",
    "transform = transforms.Compose(\n",
    "    [transforms.ToTensor(), transforms.Normalize((0.5,), (0.5,))]\n",
    ")\n",
    "\n",
    "# Create datasets for training & validation, download if necessary\n",
    "training_set = torchvision.datasets.FashionMNIST(\n",
    "    path_config.data, train=True, transform=transform, download=True\n",
    ")\n",
    "validation_set = torchvision.datasets.FashionMNIST(\n",
    "    path_config.data, train=False, transform=transform, download=True\n",
    ")\n",
    "\n",
    "# Create data loaders for our datasets; shuffle for training, not for validation\n",
    "training_loader = torch.utils.data.DataLoader(training_set, batch_size=4, shuffle=True)\n",
    "validation_loader = torch.utils.data.DataLoader(\n",
    "    validation_set, batch_size=4, shuffle=False\n",
    ")\n",
    "\n",
    "# Class labels\n",
    "classes = (\n",
    "    \"T-shirt/top\",\n",
    "    \"Trouser\",\n",
    "    \"Pullover\",\n",
    "    \"Dress\",\n",
    "    \"Coat\",\n",
    "    \"Sandal\",\n",
    "    \"Shirt\",\n",
    "    \"Sneaker\",\n",
    "    \"Bag\",\n",
    "    \"Ankle Boot\",\n",
    ")\n",
    "\n",
    "# Report split sizes\n",
    "print(\"Training set has {} instances\".format(len(training_set)))\n",
    "print(\"Validation set has {} instances\".format(len(validation_set)))"
   ]
  },
  {
   "cell_type": "code",
   "execution_count": 5,
   "id": "4448c9f8",
   "metadata": {},
   "outputs": [
    {
     "name": "stdout",
     "output_type": "stream",
     "text": [
      "T-shirt/top  Trouser  T-shirt/top  Coat\n"
     ]
    },
    {
     "data": {
      "image/png": "[encoded data removed]",
      "text/plain": [
       "<Figure size 640x480 with 1 Axes>"
      ]
     },
     "metadata": {},
     "output_type": "display_data"
    }
   ],
   "source": [
    "import matplotlib.pyplot as plt\n",
    "import numpy as np\n",
    "\n",
    "# Helper function for inline image display\n",
    "def matplotlib_imshow(img, one_channel=False):\n",
    "    if one_channel:\n",
    "        img = img.mean(dim=0)\n",
    "    img = img / 2 + 0.5     # unnormalize\n",
    "    npimg = img.numpy()\n",
    "    if one_channel:\n",
    "        plt.imshow(npimg, cmap=\"Greys\")\n",
    "    else:\n",
    "        plt.imshow(np.transpose(npimg, (1, 2, 0)))\n",
    "\n",
    "dataiter = iter(training_loader)\n",
    "images, labels = next(dataiter)\n",
    "\n",
    "# Create a grid from the images and show them\n",
    "img_grid = torchvision.utils.make_grid(images)\n",
    "matplotlib_imshow(img_grid, one_channel=True)\n",
    "print('  '.join(classes[labels[j]] for j in range(4)))"
   ]
  },
  {
   "cell_type": "markdown",
   "id": "085144a2",
   "metadata": {},
   "source": [
    "## Setup training MLP"
   ]
  },
  {
   "cell_type": "code",
   "execution_count": 6,
   "id": "35e5c318",
   "metadata": {},
   "outputs": [],
   "source": [
    "import torch\n",
    "from torch import nn\n",
    "from pathlib import Path\n",
    "\n",
    "from configs.path_config import path_config\n",
    "from torch.utils.tensorboard import SummaryWriter\n",
    "\n",
    "# Hyperparameters\n",
    "lr = 1e-3\n",
    "epochs = 5\n",
    "\n",
    "device = torch.device(\"cuda\" if torch.cuda.is_available() else \"cpu\")\n",
    "pin_memory = device.type == \"cuda\"\n",
    "num_workers = 2 if device.type == \"cuda\" else 0  # safe default for notebooks\n",
    "\n",
    "# Model\n",
    "model = mlp.to(device)\n",
    "\n",
    "criterion = nn.CrossEntropyLoss()\n",
    "optimizer = torch.optim.Adam(model.parameters(), lr=lr)\n",
    "\n",
    "\n",
    "def run_epoch(model, loader, optimizer=None):\n",
    "    is_train = optimizer is not None\n",
    "    model.train(is_train)\n",
    "\n",
    "    total_loss, total_correct, total = 0.0, 0, 0\n",
    "    for x, y in loader:\n",
    "        x, y = x.to(device), y.to(device)\n",
    "\n",
    "        if is_train:\n",
    "            optimizer.zero_grad()\n",
    "\n",
    "        logits = model(x)  # MLP has an internal Flatten\n",
    "        loss = criterion(logits, y)\n",
    "\n",
    "        if is_train:\n",
    "            loss.backward()\n",
    "            optimizer.step()\n",
    "\n",
    "        total_loss += loss.item() * x.size(0)\n",
    "        preds = logits.argmax(dim=1)\n",
    "        total_correct += (preds == y).sum().item()\n",
    "        total += x.size(0)\n",
    "\n",
    "    avg_loss = total_loss / total\n",
    "    acc = total_correct / total\n",
    "    return avg_loss, acc\n",
    "\n",
    "\n",
    "best_val_acc = 0.0\n",
    "save_dir = Path(path_config.models) / \"mlp_fashionmnist\"\n",
    "save_dir.mkdir(parents=True, exist_ok=True)\n",
    "checkpoint_path = save_dir / \"checkpoint.pth\"\n",
    "\n",
    "# Setup TensorBoard\n",
    "tensorboard_log_path = Path(path_config.tensorboard) / \"mlp_fashionmnist\"\n",
    "summary_writer = SummaryWriter(log_dir=tensorboard_log_path)"
   ]
  },
  {
   "cell_type": "markdown",
   "id": "2eb2c1d0",
   "metadata": {},
   "source": [
    "## Train MLP on FashionMNIST"
   ]
  },
  {
   "cell_type": "code",
   "execution_count": 7,
   "id": "91828ac0",
   "metadata": {},
   "outputs": [
    {
     "name": "stderr",
     "output_type": "stream",
     "text": [
      "/home/jmaubras/miniconda3/envs/pyenv/lib/python3.11/site-packages/tensorboard/data/server_ingester.py:25: UserWarning: pkg_resources is deprecated as an API. See https://setuptools.pypa.io/en/latest/pkg_resources.html. The pkg_resources package is slated for removal as early as 2025-11-30. Refrain from using this package or pin to Setuptools<81.\n",
      "  import pkg_resources\n",
      "\n",
      "NOTE: Using experimental fast data loading logic. To disable, pass\n",
      "    \"--load_fast=false\" and report issues on GitHub. More details:\n",
      "    https://github.com/tensorflow/tensorboard/issues/4784\n",
      "\n",
      "Training Progress:   0%|          | 0/5 [00:00<?, ?it/s]"
     ]
    },
    {
     "name": "stdout",
     "output_type": "stream",
     "text": [
      "Opening in existing browser session.\n",
      "\u001b[32m2025-10-07 18:19:16.756\u001b[0m | \u001b[34m\u001b[1mDEBUG   \u001b[0m | \u001b[36m__main__\u001b[0m:\u001b[36m<module>\u001b[0m:\u001b[36m10\u001b[0m - \u001b[34m\u001b[1mEpoch 1/5 | train_loss=0.4938 acc=0.8194 | val_loss=0.4593 acc=0.8340\u001b[0m\n",
      "\u001b[32m2025-10-07 18:19:21.559\u001b[0m | \u001b[34m\u001b[1mDEBUG   \u001b[0m | \u001b[36m__main__\u001b[0m:\u001b[36m<module>\u001b[0m:\u001b[36m36\u001b[0m - \u001b[34m\u001b[1m\tSaved new best (val_acc=0.8340)\u001b[0m\n"
     ]
    },
    {
     "name": "stderr",
     "output_type": "stream",
     "text": [
      "Training Progress:  20%|██        | 1/5 [00:26<01:45, 26.39s/it]"
     ]
    },
    {
     "name": "stdout",
     "output_type": "stream",
     "text": [
      "\u001b[32m2025-10-07 18:19:43.163\u001b[0m | \u001b[34m\u001b[1mDEBUG   \u001b[0m | \u001b[36m__main__\u001b[0m:\u001b[36m<module>\u001b[0m:\u001b[36m10\u001b[0m - \u001b[34m\u001b[1mEpoch 2/5 | train_loss=0.3963 acc=0.8547 | val_loss=0.4200 acc=0.8500\u001b[0m\n",
      "\u001b[32m2025-10-07 18:19:43.171\u001b[0m | \u001b[34m\u001b[1mDEBUG   \u001b[0m | \u001b[36m__main__\u001b[0m:\u001b[36m<module>\u001b[0m:\u001b[36m36\u001b[0m - \u001b[34m\u001b[1m\tSaved new best (val_acc=0.8500)\u001b[0m\n"
     ]
    },
    {
     "name": "stderr",
     "output_type": "stream",
     "text": [
      "Training Progress:  40%|████      | 2/5 [00:48<01:10, 23.58s/it]"
     ]
    },
    {
     "name": "stdout",
     "output_type": "stream",
     "text": [
      "\u001b[32m2025-10-07 18:20:05.909\u001b[0m | \u001b[34m\u001b[1mDEBUG   \u001b[0m | \u001b[36m__main__\u001b[0m:\u001b[36m<module>\u001b[0m:\u001b[36m10\u001b[0m - \u001b[34m\u001b[1mEpoch 3/5 | train_loss=0.3668 acc=0.8649 | val_loss=0.4263 acc=0.8452\u001b[0m\n"
     ]
    },
    {
     "name": "stderr",
     "output_type": "stream",
     "text": [
      "Training Progress:  60%|██████    | 3/5 [01:10<00:46, 23.20s/it]"
     ]
    },
    {
     "name": "stdout",
     "output_type": "stream",
     "text": [
      "\u001b[32m2025-10-07 18:20:27.412\u001b[0m | \u001b[34m\u001b[1mDEBUG   \u001b[0m | \u001b[36m__main__\u001b[0m:\u001b[36m<module>\u001b[0m:\u001b[36m10\u001b[0m - \u001b[34m\u001b[1mEpoch 4/5 | train_loss=0.3490 acc=0.8726 | val_loss=0.4304 acc=0.8489\u001b[0m\n"
     ]
    },
    {
     "name": "stderr",
     "output_type": "stream",
     "text": [
      "Training Progress:  80%|████████  | 4/5 [01:32<00:22, 22.53s/it]"
     ]
    },
    {
     "name": "stdout",
     "output_type": "stream",
     "text": [
      "\u001b[32m2025-10-07 18:20:49.170\u001b[0m | \u001b[34m\u001b[1mDEBUG   \u001b[0m | \u001b[36m__main__\u001b[0m:\u001b[36m<module>\u001b[0m:\u001b[36m10\u001b[0m - \u001b[34m\u001b[1mEpoch 5/5 | train_loss=0.3361 acc=0.8771 | val_loss=0.4082 acc=0.8612\u001b[0m\n",
      "\u001b[32m2025-10-07 18:20:49.176\u001b[0m | \u001b[34m\u001b[1mDEBUG   \u001b[0m | \u001b[36m__main__\u001b[0m:\u001b[36m<module>\u001b[0m:\u001b[36m36\u001b[0m - \u001b[34m\u001b[1m\tSaved new best (val_acc=0.8612)\u001b[0m\n"
     ]
    },
    {
     "name": "stderr",
     "output_type": "stream",
     "text": [
      "Training Progress: 100%|██████████| 5/5 [01:54<00:00, 22.80s/it]\n"
     ]
    }
   ],
   "source": [
    "from tqdm import tqdm\n",
    "from utils.tensorboard_utils import launch_tensorboard\n",
    "\n",
    "launch_tensorboard(log_dir=tensorboard_log_path)\n",
    "\n",
    "for epoch in tqdm(range(1, epochs + 1), desc=\"Training Progress\"):\n",
    "    train_loss, train_acc = run_epoch(model, training_loader, optimizer)\n",
    "    val_loss, val_acc = run_epoch(model, validation_loader, optimizer=None)\n",
    "\n",
    "    log(\n",
    "        message=f\"Epoch {epoch}/{epochs} | train_loss={train_loss:.4f} acc={train_acc:.4f} | val_loss={val_loss:.4f} acc={val_acc:.4f}\"\n",
    "    )\n",
    "    summary_writer.add_scalars(\n",
    "        main_tag=\"accuracy\",\n",
    "        tag_scalar_dict={\"train\": train_acc, \"val\": val_acc},\n",
    "        global_step=epoch,\n",
    "    )\n",
    "    summary_writer.add_scalars(\n",
    "        main_tag=\"loss\",\n",
    "        tag_scalar_dict={\"train\": train_loss, \"val\": val_loss},\n",
    "        global_step=epoch,\n",
    "    )\n",
    "\n",
    "    if val_acc > best_val_acc:\n",
    "        best_val_acc = val_acc\n",
    "        torch.save(\n",
    "            {\n",
    "                \"model_state_dict\": model.state_dict(),\n",
    "                \"config\": {\n",
    "                    **AppConfig.settings[\"model\"].config,\n",
    "                    \"seed\": SEED,\n",
    "                },\n",
    "            },\n",
    "            checkpoint_path,\n",
    "        )\n",
    "        log(\n",
    "            message=f\"\\tSaved new best (val_acc={best_val_acc:.4f})\"\n",
    "        )"
   ]
  },
  {
   "cell_type": "markdown",
   "id": "129910ac",
   "metadata": {},
   "source": [
    "## Predict with loaded checkpoint"
   ]
  },
  {
   "cell_type": "code",
   "execution_count": 9,
   "id": "14ed2ee5",
   "metadata": {},
   "outputs": [
    {
     "name": "stdout",
     "output_type": "stream",
     "text": [
      "\u001b[32m2025-10-07 18:21:11.511\u001b[0m | \u001b[34m\u001b[1mDEBUG   \u001b[0m | \u001b[36m__main__\u001b[0m:\u001b[36m<module>\u001b[0m:\u001b[36m8\u001b[0m - \u001b[34m\u001b[1mGround truth: Ankle Boot, Pullover, Trouser, Trouser\u001b[0m\n",
      "\u001b[32m2025-10-07 18:21:11.513\u001b[0m | \u001b[34m\u001b[1mDEBUG   \u001b[0m | \u001b[36m__main__\u001b[0m:\u001b[36m<module>\u001b[0m:\u001b[36m11\u001b[0m - \u001b[34m\u001b[1mPredicted: Ankle Boot, Pullover, Trouser, Trouser\u001b[0m\n"
     ]
    }
   ],
   "source": [
    "loaded = AppConfig.settings[\"model\"].model.to(device)\n",
    "state = torch.load(checkpoint_path, map_location=device)\n",
    "loaded.load_state_dict(state[\"model_state_dict\"])\n",
    "\n",
    "dataiter = iter(validation_loader)\n",
    "images, labels = next(dataiter)\n",
    "images, labels = images.to(device), labels.to(device)\n",
    "log(message=f\"Ground truth: {', '.join(classes[labels[j]] for j in range(4))}\")\n",
    "outputs = loaded(images)\n",
    "_, preds = torch.max(outputs, 1)\n",
    "log(message=f\"Predicted: {', '.join(classes[preds[j]] for j in range(4))}\")"
   ]
  },
  {
   "cell_type": "markdown",
   "id": "0bb44114",
   "metadata": {},
   "source": [
    "## Here, the rest of your code. Enjoy !\n"
   ]
  }
 ],
 "metadata": {
  "kernelspec": {
   "display_name": "pyenv",
   "language": "python",
   "name": "python3"
  },
  "language_info": {
   "codemirror_mode": {
    "name": "ipython",
    "version": 3
   },
   "file_extension": ".py",
   "mimetype": "text/x-python",
   "name": "python",
   "nbconvert_exporter": "python",
   "pygments_lexer": "ipython3",
   "version": "3.11.13"
  }
 },
 "nbformat": 4,
 "nbformat_minor": 5
}
