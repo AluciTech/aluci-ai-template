{
 "cells": [
  {
   "cell_type": "markdown",
   "id": "1132fd05",
   "metadata": {},
   "source": [
    "# MLP Example\n",
    "\n",
    "In this notebook, we will explore how to load a custom model, specifically a Multi-Layer Perceptron (MLP), using the configuration settings defined in our project.\n"
   ]
  },
  {
   "cell_type": "markdown",
   "id": "14e9aa8b",
   "metadata": {},
   "source": [
    "## Setup\n"
   ]
  },
  {
   "cell_type": "markdown",
   "id": "4f81ed32",
   "metadata": {},
   "source": [
    "### Load Local Modules\n"
   ]
  },
  {
   "cell_type": "code",
   "execution_count": 1,
   "id": "76e03898",
   "metadata": {},
   "outputs": [],
   "source": [
    "from pathlib import Path\n",
    "import sys\n",
    "import subprocess\n",
    "\n",
    "\n",
    "def get_project_root() -> Path:\n",
    "    return Path(\n",
    "        subprocess.check_output(\n",
    "            [\"git\", \"rev-parse\", \"--show-toplevel\"],\n",
    "            cwd=\".\",\n",
    "            stderr=subprocess.STDOUT,\n",
    "        )\n",
    "        .strip()\n",
    "        .decode()\n",
    "    )\n",
    "\n",
    "\n",
    "project_root = get_project_root()\n",
    "src_dir = project_root / \"src\"\n",
    "\n",
    "if str(src_dir) not in sys.path:\n",
    "    sys.path.append(str(src_dir))\n",
    "\n",
    "try:\n",
    "    from utils.seed_utils import set_seed\n",
    "except ImportError:\n",
    "    raise ImportError(\"Cannot import module. Make sure that the project is on the path\")\n",
    "\n",
    "SEED = 42\n",
    "set_seed(SEED)"
   ]
  },
  {
   "cell_type": "markdown",
   "id": "241f67dc",
   "metadata": {},
   "source": [
    "### Setup logs and config\n",
    "\n",
    "Here's the configuration used:\n",
    "\n",
    "```yaml\n",
    "logs:\n",
    "  _target_: schemas.log_schema.LogSchema\n",
    "  sink: ${path_config:run_log}\n",
    "  level: INFO\n",
    "  format: \"{time:YYYY-MM-DD HH:mm:ss.SSS} | {level} | {thread.name} | {name}:{function}:{line} - {message}\"\n",
    "  rotation: 10 MB\n",
    "  retention: 7 days\n",
    "  colorize: true\n",
    "\n",
    "model:\n",
    "  _target_: models.smol_lm3.smol_lm3_model.SmolLM3Model\n",
    "```\n",
    "\n",
    "But we want to use an MLP model instead:\n",
    "\n",
    "```yaml\n",
    "model:\n",
    "  _target_: models.mlp.mlp_model.MLPModel\n",
    "```\n",
    "\n",
    "So here we can override the model configuration when loading the settings, as shown below.\n"
   ]
  },
  {
   "cell_type": "code",
   "execution_count": 2,
   "id": "c30fc035",
   "metadata": {},
   "outputs": [
    {
     "name": "stderr",
     "output_type": "stream",
     "text": [
      "\u001b[32m2025-10-07 11:14:09.423\u001b[0m | \u001b[32m\u001b[1mSUCCESS \u001b[0m | \u001b[36mutils.file_utils\u001b[0m:\u001b[36mcreate_dir\u001b[0m:\u001b[36m125\u001b[0m - \u001b[32m\u001b[1mCreated directory: /home/jmaubras/OneDrive/Bureau/Pro/Aluci-Perso/aluci-ai-template/logs/20251007/111408\u001b[0m\n",
      "\u001b[32m2025-10-07 11:14:10.093\u001b[0m | \u001b[32m\u001b[1mSUCCESS \u001b[0m | \u001b[36mutils.file_utils\u001b[0m:\u001b[36mcreate_dir\u001b[0m:\u001b[36m125\u001b[0m - \u001b[32m\u001b[1mCreated directory: /home/jmaubras/OneDrive/Bureau/Pro/Aluci-Perso/aluci-ai-template/logs/20251007/111408/configs\u001b[0m\n",
      "\u001b[32m2025-10-07 11:14:10.437\u001b[0m | \u001b[1mINFO    \u001b[0m | \u001b[36mmodels.mlp.mlp_model\u001b[0m:\u001b[36mload_model\u001b[0m:\u001b[36m66\u001b[0m - \u001b[1mLoading MLPModel...\u001b[0m\n",
      "\u001b[32m2025-10-07 11:14:10.439\u001b[0m | \u001b[32m\u001b[1mSUCCESS \u001b[0m | \u001b[36mmodels.mlp.mlp_model\u001b[0m:\u001b[36mload_model\u001b[0m:\u001b[36m68\u001b[0m - \u001b[32m\u001b[1mMLPModel loaded and ready to use !\u001b[0m\n",
      "\u001b[32m2025-10-07 11:14:10.439\u001b[0m | \u001b[1mINFO    \u001b[0m | \u001b[36mmodels.mlp.mlp_model\u001b[0m:\u001b[36m__post_init__\u001b[0m:\u001b[36m57\u001b[0m - \u001b[1mMLPModel initialized.\u001b[0m\n"
     ]
    }
   ],
   "source": [
    "from configs.app_config import AppConfig\n",
    "from utils.log_utils import setup_logs\n",
    "\n",
    "\n",
    "def setup(\n",
    "    config_dir: str | Path | None = None,\n",
    "    config_file: str = \"settings.yaml\",\n",
    "    overrides: list[str] | None = None,\n",
    "):\n",
    "    AppConfig.load(\n",
    "        config_dir=config_dir,\n",
    "        config_file=config_file,\n",
    "        overrides=overrides,\n",
    "    )\n",
    "    setup_logs()\n",
    "\n",
    "\n",
    "setup(overrides=[\"model._target_=models.mlp.mlp_model.MLPModel\"])"
   ]
  },
  {
   "cell_type": "markdown",
   "id": "275df285",
   "metadata": {},
   "source": [
    "## Load MLP Model\n"
   ]
  },
  {
   "cell_type": "code",
   "execution_count": 3,
   "id": "ccec9883",
   "metadata": {},
   "outputs": [
    {
     "name": "stdout",
     "output_type": "stream",
     "text": [
      "\u001b[32m2025-10-07 11:14:10.449\u001b[0m | \u001b[34m\u001b[1mDEBUG   \u001b[0m | \u001b[36m__main__\u001b[0m:\u001b[36m<module>\u001b[0m:\u001b[36m3\u001b[0m - \u001b[34m\u001b[1mMLP(\n",
      "  (model): Sequential(\n",
      "    (0): Flatten(start_dim=1, end_dim=-1)\n",
      "    (1): Linear(in_features=256, out_features=128, bias=True)\n",
      "    (2): ReLU()\n",
      "    (3): Linear(in_features=128, out_features=10, bias=True)\n",
      "  )\n",
      ")\u001b[0m\n"
     ]
    }
   ],
   "source": [
    "from utils.log_utils import log\n",
    "\n",
    "log(message=AppConfig.settings[\"model\"].model)"
   ]
  },
  {
   "cell_type": "markdown",
   "id": "0bb44114",
   "metadata": {},
   "source": [
    "## Here, the rest of your code. Enjoy !\n"
   ]
  }
 ],
 "metadata": {
  "kernelspec": {
   "display_name": "pyenv",
   "language": "python",
   "name": "python3"
  },
  "language_info": {
   "codemirror_mode": {
    "name": "ipython",
    "version": 3
   },
   "file_extension": ".py",
   "mimetype": "text/x-python",
   "name": "python",
   "nbconvert_exporter": "python",
   "pygments_lexer": "ipython3",
   "version": "3.11.13"
  }
 },
 "nbformat": 4,
 "nbformat_minor": 5
}
